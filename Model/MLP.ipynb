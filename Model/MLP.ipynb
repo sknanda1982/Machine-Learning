{
 "cells": [
  {
   "cell_type": "markdown",
   "metadata": {},
   "source": [
    "# Data preperation"
   ]
  },
  {
   "cell_type": "code",
   "execution_count": null,
   "metadata": {},
   "outputs": [],
   "source": [
    "import pandas as pd\n",
    "import numpy as np\n",
    "import random\n",
    "import os\n",
    "age = []\n",
    "fbs = []\n",
    "bp = []\n",
    "chol = []\n",
    "chest_pain = [] \n",
    "height = []\n",
    "weight =[]\n",
    "for i in range(20000):\n",
    "    chpain_t = np.random.randint(0,2)\n",
    "    chol_t = np.random.randint(150,351)\n",
    "    fbs_t = np.random.randint(50,201)\n",
    "    height_t = np.random.randint(140,191)\n",
    "    weight_t = np.random.randint(35,111)\n",
    "    bp_t = np.random.randint(75,261)\n",
    "    if i%5==0 or i%3==0:\n",
    "        age_t = np.random.choice([np.random.randint(20,46),np.random.randint(71,86)])\n",
    "    else:\n",
    "        age_t = np.random.randint(45,71)\n",
    "    age.append(age_t)\n",
    "    height.append(height_t)\n",
    "    weight.append(weight_t)\n",
    "    chest_pain.append(chpain_t)\n",
    "    bp.append(bp_t)\n",
    "    fbs.append(fbs_t)\n",
    "    chol.append(chol_t)"
   ]
  },
  {
   "cell_type": "code",
   "execution_count": null,
   "metadata": {},
   "outputs": [],
   "source": [
    "heart_dict = {'age':age, 'height':height, 'weight':weight, 'chest_pain':chest_pain, 'bp':bp, 'fbs':fbs, 'chol':chol}\n",
    "df_heart = pd.DataFrame(heart_dict)\n",
    "df_heart.to_csv(\"heart_data.csv\",index=False)"
   ]
  },
  {
   "cell_type": "markdown",
   "metadata": {},
   "source": [
    "# Data Filtering"
   ]
  },
  {
   "cell_type": "code",
   "execution_count": null,
   "metadata": {},
   "outputs": [],
   "source": [
    "df = pd.read_csv('heart_data.csv')\n",
    "df1 = pd.read_csv('heart_data.csv')\n",
    "risk = []\n",
    "rule = []\n",
    "for i in range(len(df)):\n",
    "    bmi = round(((df.iloc[i,2])/((df.iloc[i,1]/100)**2)),2)\n",
    "    temp = df.iloc[i,:].tolist()\n",
    "    if((temp[5]>120 and temp[4]>145 and temp[0]>52) or (bmi>=24.5 and temp[6]>210) or (temp[3]==1 and temp[6]>200 and temp[0]>56)):\n",
    "        risk.append(1)\n",
    "#         rule.append(1)\n",
    "    elif((temp[4]>150 and temp[6]>210) or (temp[3]==1 and temp[4]<150 and temp[6]>200) or (temp[5]>=120 and temp[0]>60 and temp[6]<200)):\n",
    "        risk.append(1)\n",
    "#         rule.append(2)\n",
    "    elif((temp[3]==0 and (bmi in range(18,25)) and temp[6]<190 and temp[0]<30) or (temp[5]<120 and temp[6]<190 and temp[0]<40)):\n",
    "        risk.append(0)\n",
    "#         rule.append(3)\n",
    "    else:\n",
    "        risk.append(0)\n",
    "#         rule.append(0)\n",
    "         "
   ]
  },
  {
   "cell_type": "code",
   "execution_count": null,
   "metadata": {},
   "outputs": [],
   "source": [
    "df_yes = df1[df1.risk == 1]\n",
    "df_no = df1[df1.risk == 0]\n",
    "df_new = df1.iloc[-1:-1,:]\n",
    "df_new = df_new.append(df_no,ignore_index=True)\n",
    "df_new = df_new.iloc[:3824,:]\n",
    "df_new = df_new.append(df_yes,ignore_index=True)"
   ]
  },
  {
   "cell_type": "code",
   "execution_count": null,
   "metadata": {},
   "outputs": [],
   "source": [
    "df_new"
   ]
  },
  {
   "cell_type": "code",
   "execution_count": null,
   "metadata": {},
   "outputs": [],
   "source": [
    "df_new = df_new.iloc[:10000,:]\n",
    "from sklearn.utils import shuffle\n",
    "df_new = shuffle(df_new).reset_index(drop=True)\n",
    "df_new.to_csv('heart_pred_data1.csv',index=False)"
   ]
  },
  {
   "cell_type": "code",
   "execution_count": null,
   "metadata": {},
   "outputs": [],
   "source": []
  },
  {
   "cell_type": "markdown",
   "metadata": {},
   "source": [
    "# MLP CODE"
   ]
  },
  {
   "cell_type": "code",
   "execution_count": 4,
   "metadata": {},
   "outputs": [
    {
     "name": "stdout",
     "output_type": "stream",
     "text": [
      "----------------------------------Data------------------------------------\n",
      "      age  height  weight  chest_pain   bp  fbs  chol  risk\n",
      "0      67     141      35           1  185   84   333     1\n",
      "1      73     164      46           1  231  123   208     1\n",
      "2      59     158      86           1   93   61   194     0\n",
      "3      59     154      54           1   98  187   265     1\n",
      "4      36     186     103           0  186  131   325     1\n",
      "...   ...     ...     ...         ...  ...  ...   ...   ...\n",
      "9995   77     174      66           0  193  188   207     1\n",
      "9996   47     182      86           1  220  134   245     1\n",
      "9997   77     152      72           1  245   50   204     1\n",
      "9998   75     170     107           0  239  137   160     1\n",
      "9999   49     170      67           0  107   53   322     0\n",
      "\n",
      "[10000 rows x 8 columns]\n"
     ]
    }
   ],
   "source": [
    "import pandas as pd\n",
    "import numpy as np\n",
    "from sklearn import preprocessing\n",
    "import matplotlib.pyplot as plt\n",
    "from sklearn.preprocessing import normalize\n",
    "import pandas as pd\n",
    "import seaborn as sns\n",
    "import numpy as np\n",
    "import warnings\n",
    "warnings.filterwarnings('ignore')\n",
    "import seaborn as sn\n",
    "import matplotlib.pyplot as plt\n",
    "from sklearn.utils import resample\n",
    "from sklearn.utils import shuffle\n",
    "from sklearn.model_selection import train_test_split\n",
    "from sklearn import metrics\n",
    "from sklearn.metrics import r2_score\n",
    "from sklearn.metrics import mean_squared_error\n",
    "import scikitplot as skplt\n",
    "from matplotlib.colors import ListedColormap\n",
    "df = pd.read_csv('heart_pred_data.csv')\n",
    "print(\"----------------------------------Data------------------------------------\")\n",
    "print(df)"
   ]
  },
  {
   "cell_type": "markdown",
   "metadata": {},
   "source": [
    "# outliers"
   ]
  },
  {
   "cell_type": "code",
   "execution_count": 8,
   "metadata": {},
   "outputs": [
    {
     "data": {
      "text/plain": [
       "<matplotlib.axes._subplots.AxesSubplot at 0x20c78b1b548>"
      ]
     },
     "execution_count": 8,
     "metadata": {},
     "output_type": "execute_result"
    },
    {
     "data": {
      "image/png": "[encoded data removed]",
      "text/plain": [
       "<Figure size 432x288 with 4 Axes>"
      ]
     },
     "metadata": {
      "needs_background": "light"
     },
     "output_type": "display_data"
    }
   ],
   "source": [
    "ax2=plt.subplot(341, frameon=True)\n",
    "sns.boxplot(x=df['age'])\n",
    "ax2=plt.subplot(342, frameon=True)\n",
    "sns.boxplot(x=df['height'])\n",
    "ax2=plt.subplot(343, frameon=True)\n",
    "sns.boxplot(x=df['weight'])\n",
    "ax2=plt.subplot(344, frameon=True)\n",
    "sns.boxplot(x=df['chest_pain'])\n",
    "\n"
   ]
  },
  {
   "cell_type": "code",
   "execution_count": 7,
   "metadata": {},
   "outputs": [
    {
     "data": {
      "text/plain": [
       "<matplotlib.axes._subplots.AxesSubplot at 0x20c789fea88>"
      ]
     },
     "execution_count": 7,
     "metadata": {},
     "output_type": "execute_result"
    },
    {
     "data": {
      "image/png": "[encoded data removed]",
      "text/plain": [
       "<Figure size 432x288 with 4 Axes>"
      ]
     },
     "metadata": {
      "needs_background": "light"
     },
     "output_type": "display_data"
    }
   ],
   "source": [
    "ax2=plt.subplot(341, frameon=True)\n",
    "sns.boxplot(x=df['chest_pain'])\n",
    "ax2=plt.subplot(342, frameon=True)\n",
    "sns.boxplot(x=df['bp'])\n",
    "ax2=plt.subplot(343, frameon=True)\n",
    "sns.boxplot(x=df['fbs'])\n",
    "ax2=plt.subplot(344, frameon=True)\n",
    "sns.boxplot(x=df['chol'])"
   ]
  },
  {
   "cell_type": "markdown",
   "metadata": {},
   "source": [
    "# histogram"
   ]
  },
  {
   "cell_type": "code",
   "execution_count": 9,
   "metadata": {},
   "outputs": [
    {
     "data": {
      "image/png": "[encoded data removed]",
      "text/plain": [
       "<Figure size 720x720 with 9 Axes>"
      ]
     },
     "metadata": {
      "needs_background": "light"
     },
     "output_type": "display_data"
    }
   ],
   "source": [
    "df.hist(figsize=(10,10), xrot=-45, bins=10)\n",
    "plt.show()"
   ]
  },
  {
   "cell_type": "markdown",
   "metadata": {},
   "source": [
    "# Correlation"
   ]
  },
  {
   "cell_type": "code",
   "execution_count": null,
   "metadata": {},
   "outputs": [],
   "source": [
    "corr = df.corr()\n",
    "corr"
   ]
  },
  {
   "cell_type": "code",
   "execution_count": null,
   "metadata": {},
   "outputs": [],
   "source": [
    "plt.figure(figsize=(10,10))\n",
    "plt.title(\"Correlation HeatMap\")\n",
    "sns.heatmap(corr)\n",
    "plt.xlabel(\"Features\")\n",
    "plt.ylabel(\"Features\")\n",
    "plt.show()"
   ]
  },
  {
   "cell_type": "code",
   "execution_count": 10,
   "metadata": {},
   "outputs": [
    {
     "data": {
      "text/html": [
       "<div>\n",
       "<style scoped>\n",
       "    .dataframe tbody tr th:only-of-type {\n",
       "        vertical-align: middle;\n",
       "    }\n",
       "\n",
       "    .dataframe tbody tr th {\n",
       "        vertical-align: top;\n",
       "    }\n",
       "\n",
       "    .dataframe thead th {\n",
       "        text-align: right;\n",
       "    }\n",
       "</style>\n",
       "<table border=\"1\" class=\"dataframe\">\n",
       "  <thead>\n",
       "    <tr style=\"text-align: right;\">\n",
       "      <th></th>\n",
       "      <th>age</th>\n",
       "      <th>height</th>\n",
       "      <th>weight</th>\n",
       "      <th>chest_pain</th>\n",
       "      <th>bp</th>\n",
       "      <th>fbs</th>\n",
       "      <th>chol</th>\n",
       "      <th>risk</th>\n",
       "    </tr>\n",
       "  </thead>\n",
       "  <tbody>\n",
       "    <tr>\n",
       "      <td>0</td>\n",
       "      <td>67</td>\n",
       "      <td>141</td>\n",
       "      <td>35</td>\n",
       "      <td>1</td>\n",
       "      <td>185</td>\n",
       "      <td>84</td>\n",
       "      <td>333</td>\n",
       "      <td>1</td>\n",
       "    </tr>\n",
       "    <tr>\n",
       "      <td>1</td>\n",
       "      <td>73</td>\n",
       "      <td>164</td>\n",
       "      <td>46</td>\n",
       "      <td>1</td>\n",
       "      <td>231</td>\n",
       "      <td>123</td>\n",
       "      <td>208</td>\n",
       "      <td>1</td>\n",
       "    </tr>\n",
       "    <tr>\n",
       "      <td>2</td>\n",
       "      <td>59</td>\n",
       "      <td>158</td>\n",
       "      <td>86</td>\n",
       "      <td>1</td>\n",
       "      <td>93</td>\n",
       "      <td>61</td>\n",
       "      <td>194</td>\n",
       "      <td>0</td>\n",
       "    </tr>\n",
       "    <tr>\n",
       "      <td>3</td>\n",
       "      <td>59</td>\n",
       "      <td>154</td>\n",
       "      <td>54</td>\n",
       "      <td>1</td>\n",
       "      <td>98</td>\n",
       "      <td>187</td>\n",
       "      <td>265</td>\n",
       "      <td>1</td>\n",
       "    </tr>\n",
       "    <tr>\n",
       "      <td>4</td>\n",
       "      <td>36</td>\n",
       "      <td>186</td>\n",
       "      <td>103</td>\n",
       "      <td>0</td>\n",
       "      <td>186</td>\n",
       "      <td>131</td>\n",
       "      <td>325</td>\n",
       "      <td>1</td>\n",
       "    </tr>\n",
       "    <tr>\n",
       "      <td>...</td>\n",
       "      <td>...</td>\n",
       "      <td>...</td>\n",
       "      <td>...</td>\n",
       "      <td>...</td>\n",
       "      <td>...</td>\n",
       "      <td>...</td>\n",
       "      <td>...</td>\n",
       "      <td>...</td>\n",
       "    </tr>\n",
       "    <tr>\n",
       "      <td>8995</td>\n",
       "      <td>45</td>\n",
       "      <td>152</td>\n",
       "      <td>52</td>\n",
       "      <td>0</td>\n",
       "      <td>99</td>\n",
       "      <td>68</td>\n",
       "      <td>281</td>\n",
       "      <td>0</td>\n",
       "    </tr>\n",
       "    <tr>\n",
       "      <td>8996</td>\n",
       "      <td>59</td>\n",
       "      <td>149</td>\n",
       "      <td>103</td>\n",
       "      <td>0</td>\n",
       "      <td>145</td>\n",
       "      <td>164</td>\n",
       "      <td>174</td>\n",
       "      <td>0</td>\n",
       "    </tr>\n",
       "    <tr>\n",
       "      <td>8997</td>\n",
       "      <td>59</td>\n",
       "      <td>163</td>\n",
       "      <td>77</td>\n",
       "      <td>0</td>\n",
       "      <td>225</td>\n",
       "      <td>77</td>\n",
       "      <td>175</td>\n",
       "      <td>0</td>\n",
       "    </tr>\n",
       "    <tr>\n",
       "      <td>8998</td>\n",
       "      <td>65</td>\n",
       "      <td>175</td>\n",
       "      <td>82</td>\n",
       "      <td>1</td>\n",
       "      <td>171</td>\n",
       "      <td>62</td>\n",
       "      <td>168</td>\n",
       "      <td>0</td>\n",
       "    </tr>\n",
       "    <tr>\n",
       "      <td>8999</td>\n",
       "      <td>62</td>\n",
       "      <td>175</td>\n",
       "      <td>44</td>\n",
       "      <td>1</td>\n",
       "      <td>203</td>\n",
       "      <td>183</td>\n",
       "      <td>347</td>\n",
       "      <td>1</td>\n",
       "    </tr>\n",
       "  </tbody>\n",
       "</table>\n",
       "<p>9000 rows × 8 columns</p>\n",
       "</div>"
      ],
      "text/plain": [
       "      age  height  weight  chest_pain   bp  fbs  chol  risk\n",
       "0      67     141      35           1  185   84   333     1\n",
       "1      73     164      46           1  231  123   208     1\n",
       "2      59     158      86           1   93   61   194     0\n",
       "3      59     154      54           1   98  187   265     1\n",
       "4      36     186     103           0  186  131   325     1\n",
       "...   ...     ...     ...         ...  ...  ...   ...   ...\n",
       "8995   45     152      52           0   99   68   281     0\n",
       "8996   59     149     103           0  145  164   174     0\n",
       "8997   59     163      77           0  225   77   175     0\n",
       "8998   65     175      82           1  171   62   168     0\n",
       "8999   62     175      44           1  203  183   347     1\n",
       "\n",
       "[9000 rows x 8 columns]"
      ]
     },
     "execution_count": 10,
     "metadata": {},
     "output_type": "execute_result"
    }
   ],
   "source": [
    "df1 = df.iloc[9000:,:]\n",
    "df = df.iloc[:9000,:]\n",
    "test_XX = df1.iloc[:,:-1].values\n",
    "actual_yy = df1.iloc[:,-1].values\n",
    "actual_y = actual_yy.tolist()\n",
    "df"
   ]
  },
  {
   "cell_type": "code",
   "execution_count": 11,
   "metadata": {},
   "outputs": [
    {
     "data": {
      "text/plain": [
       "1    5555\n",
       "0    3445\n",
       "Name: risk, dtype: int64"
      ]
     },
     "execution_count": 11,
     "metadata": {},
     "output_type": "execute_result"
    }
   ],
   "source": [
    "df.risk.value_counts()"
   ]
  },
  {
   "cell_type": "code",
   "execution_count": 12,
   "metadata": {},
   "outputs": [
    {
     "name": "stdout",
     "output_type": "stream",
     "text": [
      "Features:  ['age', 'height', 'weight', 'chest_pain', 'bp', 'fbs', 'chol']\n"
     ]
    }
   ],
   "source": [
    "X = df.iloc[:,:7]\n",
    "Y = df.iloc[:,-1]\n",
    "db_no =df[df.risk == 0]\n",
    "db_yes = df[df.risk == 1]\n",
    "X_features = list( df.columns )[:-1]\n",
    "print(\"Features: \",X_features)\n",
    "train_X, test_X, train_y, test_y = train_test_split(X,Y,test_size = 0.2,random_state = 65)"
   ]
  },
  {
   "cell_type": "code",
   "execution_count": 13,
   "metadata": {},
   "outputs": [],
   "source": [
    "from sklearn.neural_network import MLPClassifier\n",
    "mlp = MLPClassifier()\n",
    "mlp.fit( train_X, train_y)\n",
    "pred_y1 = mlp.predict(test_X)\n"
   ]
  },
  {
   "cell_type": "code",
   "execution_count": 14,
   "metadata": {},
   "outputs": [
    {
     "data": {
      "image/png": "[encoded data removed]",
      "text/plain": [
       "<Figure size 432x288 with 1 Axes>"
      ]
     },
     "metadata": {
      "needs_background": "light"
     },
     "output_type": "display_data"
    }
   ],
   "source": [
    "pred = mlp.predict(test_XX)\n",
    "def comaprison_plot(pred,actual):\n",
    "    plt.plot(np.arange(1000),pred,label='Predicted')\n",
    "    plt.plot(np.arange(1000),actual,label='Actual')\n",
    "    plt.xlabel('No.of Samples')\n",
    "    plt.ylabel('Y Value')\n",
    "    plt.legend(loc='upper right')\n",
    "    plt.title('Comparison Plot')\n",
    "    plt.show()\n",
    "\n",
    "comaprison_plot(pred,actual_yy)\n"
   ]
  },
  {
   "cell_type": "code",
   "execution_count": 15,
   "metadata": {},
   "outputs": [
    {
     "name": "stdout",
     "output_type": "stream",
     "text": [
      "R Squared Error :  0.6164525544180957\n",
      "Mean Squared Error :  0.09\n"
     ]
    }
   ],
   "source": [
    "r21=r2_score(test_y, pred_y1) \n",
    "mse1=mean_squared_error(test_y, pred_y1)\n",
    "print(\"R Squared Error : \",r21)\n",
    "print(\"Mean Squared Error : \",mse1)"
   ]
  },
  {
   "cell_type": "markdown",
   "metadata": {},
   "source": [
    "# Heat_MAP"
   ]
  },
  {
   "cell_type": "code",
   "execution_count": 16,
   "metadata": {},
   "outputs": [
    {
     "data": {
      "image/png": "[encoded data removed]",
      "text/plain": [
       "<Figure size 432x288 with 2 Axes>"
      ]
     },
     "metadata": {
      "needs_background": "light"
     },
     "output_type": "display_data"
    }
   ],
   "source": [
    "def draw_cm( actual, predicted ):\n",
    "    cm = metrics.confusion_matrix( actual, predicted, [1,0] )\n",
    "    sn.heatmap(cm, annot=True, fmt='.2f',\n",
    "    xticklabels = [\"Risky\", \"Not-Risky\"] ,\n",
    "    yticklabels = [\"Risky\", \"Not-Risky\"] )\n",
    "    plt.ylabel('True label')\n",
    "    plt.xlabel('Predicted label')\n",
    "    plt.title('HeatMap_MLP')\n",
    "    plt.show()\n",
    "draw_cm(test_y,pred_y1 )"
   ]
  },
  {
   "cell_type": "markdown",
   "metadata": {},
   "source": [
    "# CLASSIFICATION_REPORT"
   ]
  },
  {
   "cell_type": "code",
   "execution_count": 17,
   "metadata": {},
   "outputs": [
    {
     "name": "stdout",
     "output_type": "stream",
     "text": [
      "              precision    recall  f1-score   support\n",
      "\n",
      "           0       0.93      0.82      0.87       677\n",
      "           1       0.90      0.97      0.93      1123\n",
      "\n",
      "    accuracy                           0.91      1800\n",
      "   macro avg       0.92      0.89      0.90      1800\n",
      "weighted avg       0.91      0.91      0.91      1800\n",
      "\n"
     ]
    }
   ],
   "source": [
    "print( metrics.classification_report( test_y, pred_y1 ) )"
   ]
  },
  {
   "cell_type": "markdown",
   "metadata": {},
   "source": [
    "# MODEL_PERFOMENCE"
   ]
  },
  {
   "cell_type": "code",
   "execution_count": 18,
   "metadata": {},
   "outputs": [
    {
     "name": "stdout",
     "output_type": "stream",
     "text": [
      "Accuracy: 0.91\n",
      "Precision: 0.8980944490472246\n",
      "Recall: 0.9652715939447908\n",
      "F1-Score: 0.930472103004292\n",
      "Kappa-Stat: 0.803381885511079\n"
     ]
    }
   ],
   "source": [
    "acc1 = metrics.accuracy_score(test_y, pred_y1)\n",
    "print(\"Accuracy:\",acc1)\n",
    "\n",
    "prec1 = metrics.precision_score(test_y, pred_y1)\n",
    "print(\"Precision:\",prec1)\n",
    "\n",
    "recall1 = metrics.recall_score(test_y, pred_y1)\n",
    "print(\"Recall:\",recall1)\n",
    "\n",
    "f1sc1 = metrics.f1_score(test_y, pred_y1)\n",
    "print(\"F1-Score:\",f1sc1)\n",
    "\n",
    "kappa1 = metrics.cohen_kappa_score(test_y, pred_y1)\n",
    "print(\"Kappa-Stat:\",kappa1)"
   ]
  },
  {
   "cell_type": "markdown",
   "metadata": {},
   "source": [
    "# ROC_CURVE"
   ]
  },
  {
   "cell_type": "code",
   "execution_count": 19,
   "metadata": {},
   "outputs": [
    {
     "data": {
      "image/png": "[encoded data removed]",
      "text/plain": [
       "<Figure size 432x288 with 1 Axes>"
      ]
     },
     "metadata": {
      "needs_background": "light"
     },
     "output_type": "display_data"
    }
   ],
   "source": [
    "y_pred_proba1 = mlp.predict_proba(test_X)[:,1]\n",
    "fpr1, tpr1, _ = metrics.roc_curve( test_y,  y_pred_proba1)\n",
    "auc1 = metrics.roc_auc_score( test_y, y_pred_proba1)\n",
    "plt.plot(fpr1,tpr1,label=\"MLP, ROC=\"+str(auc1))\n",
    "plt.legend(loc=4)\n",
    "plt.title('ROC Curve_MLP')\n",
    "plt.plot([0, 1], [0, 1], 'k--')\n",
    "plt.show()"
   ]
  },
  {
   "cell_type": "markdown",
   "metadata": {},
   "source": [
    "# lift_CURVE"
   ]
  },
  {
   "cell_type": "code",
   "execution_count": 20,
   "metadata": {},
   "outputs": [
    {
     "ename": "NameError",
     "evalue": "name 'skplt' is not defined",
     "output_type": "error",
     "traceback": [
      "\u001b[1;31m---------------------------------------------------------------------------\u001b[0m",
      "\u001b[1;31mNameError\u001b[0m                                 Traceback (most recent call last)",
      "\u001b[1;32m<ipython-input-20-4e551d559b74>\u001b[0m in \u001b[0;36m<module>\u001b[1;34m\u001b[0m\n\u001b[0;32m      1\u001b[0m \u001b[0mpredicted_probas1\u001b[0m \u001b[1;33m=\u001b[0m \u001b[0mmlp\u001b[0m\u001b[1;33m.\u001b[0m\u001b[0mpredict_proba\u001b[0m\u001b[1;33m(\u001b[0m\u001b[0mtest_X\u001b[0m\u001b[1;33m)\u001b[0m\u001b[1;33m\u001b[0m\u001b[1;33m\u001b[0m\u001b[0m\n\u001b[1;32m----> 2\u001b[1;33m \u001b[0mskplt\u001b[0m\u001b[1;33m.\u001b[0m\u001b[0mmetrics\u001b[0m\u001b[1;33m.\u001b[0m\u001b[0mplot_cumulative_gain\u001b[0m\u001b[1;33m(\u001b[0m\u001b[0mtest_y\u001b[0m\u001b[1;33m,\u001b[0m \u001b[0mpredicted_probas1\u001b[0m\u001b[1;33m)\u001b[0m\u001b[1;33m\u001b[0m\u001b[1;33m\u001b[0m\u001b[0m\n\u001b[0m\u001b[0;32m      3\u001b[0m \u001b[0mplt\u001b[0m\u001b[1;33m.\u001b[0m\u001b[0mxticks\u001b[0m\u001b[1;33m(\u001b[0m\u001b[1;33m[\u001b[0m\u001b[1;36m0.0\u001b[0m\u001b[1;33m,\u001b[0m\u001b[1;36m0.2\u001b[0m\u001b[1;33m,\u001b[0m\u001b[1;36m0.4\u001b[0m\u001b[1;33m,\u001b[0m\u001b[1;36m0.6\u001b[0m\u001b[1;33m,\u001b[0m\u001b[1;36m0.8\u001b[0m\u001b[1;33m,\u001b[0m\u001b[1;36m1.0\u001b[0m\u001b[1;33m]\u001b[0m\u001b[1;33m,\u001b[0m\u001b[1;33m[\u001b[0m\u001b[1;34m\"0%\"\u001b[0m\u001b[1;33m,\u001b[0m\u001b[1;34m\"20%\"\u001b[0m\u001b[1;33m,\u001b[0m\u001b[1;34m\"40%\"\u001b[0m\u001b[1;33m,\u001b[0m\u001b[1;34m\"60%\"\u001b[0m\u001b[1;33m,\u001b[0m\u001b[1;34m\"80%\"\u001b[0m\u001b[1;33m,\u001b[0m\u001b[1;34m\"100%\"\u001b[0m\u001b[1;33m]\u001b[0m\u001b[1;33m)\u001b[0m\u001b[1;33m\u001b[0m\u001b[1;33m\u001b[0m\u001b[0m\n\u001b[0;32m      4\u001b[0m \u001b[0mplt\u001b[0m\u001b[1;33m.\u001b[0m\u001b[0myticks\u001b[0m\u001b[1;33m(\u001b[0m\u001b[1;33m[\u001b[0m\u001b[1;36m0.0\u001b[0m\u001b[1;33m,\u001b[0m\u001b[1;36m0.2\u001b[0m\u001b[1;33m,\u001b[0m\u001b[1;36m0.4\u001b[0m\u001b[1;33m,\u001b[0m\u001b[1;36m0.6\u001b[0m\u001b[1;33m,\u001b[0m\u001b[1;36m0.8\u001b[0m\u001b[1;33m,\u001b[0m\u001b[1;36m1.0\u001b[0m\u001b[1;33m]\u001b[0m\u001b[1;33m,\u001b[0m\u001b[1;33m[\u001b[0m\u001b[1;34m\"0%\"\u001b[0m\u001b[1;33m,\u001b[0m\u001b[1;34m\"20%\"\u001b[0m\u001b[1;33m,\u001b[0m\u001b[1;34m\"40%\"\u001b[0m\u001b[1;33m,\u001b[0m\u001b[1;34m\"60%\"\u001b[0m\u001b[1;33m,\u001b[0m\u001b[1;34m\"80%\"\u001b[0m\u001b[1;33m,\u001b[0m\u001b[1;34m\"100%\"\u001b[0m\u001b[1;33m]\u001b[0m\u001b[1;33m)\u001b[0m\u001b[1;33m\u001b[0m\u001b[1;33m\u001b[0m\u001b[0m\n\u001b[0;32m      5\u001b[0m \u001b[0mplt\u001b[0m\u001b[1;33m.\u001b[0m\u001b[0mlegend\u001b[0m\u001b[1;33m(\u001b[0m\u001b[1;34m''\u001b[0m\u001b[1;33m)\u001b[0m\u001b[1;33m\u001b[0m\u001b[1;33m\u001b[0m\u001b[0m\n",
      "\u001b[1;31mNameError\u001b[0m: name 'skplt' is not defined"
     ]
    }
   ],
   "source": [
    "predicted_probas1 = mlp.predict_proba(test_X)\n",
    "skplt.metrics.plot_cumulative_gain(test_y, predicted_probas1)\n",
    "plt.xticks([0.0,0.2,0.4,0.6,0.8,1.0],[\"0%\",\"20%\",\"40%\",\"60%\",\"80%\",\"100%\"])\n",
    "plt.yticks([0.0,0.2,0.4,0.6,0.8,1.0],[\"0%\",\"20%\",\"40%\",\"60%\",\"80%\",\"100%\"])\n",
    "plt.legend('')\n",
    "plt.title(\"Cumulative Gains Curve - MLP\")\n",
    "plt.show()"
   ]
  },
  {
   "cell_type": "code",
   "execution_count": null,
   "metadata": {},
   "outputs": [],
   "source": []
  }
 ],
 "metadata": {
  "kernelspec": {
   "display_name": "Python 3",
   "language": "python",
   "name": "python3"
  },
  "language_info": {
   "codemirror_mode": {
    "name": "ipython",
    "version": 3
   },
   "file_extension": ".py",
   "mimetype": "text/x-python",
   "name": "python",
   "nbconvert_exporter": "python",
   "pygments_lexer": "ipython3",
   "version": "3.7.4"
  }
 },
 "nbformat": 4,
 "nbformat_minor": 4
}
