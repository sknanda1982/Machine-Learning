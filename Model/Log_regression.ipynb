{
 "cells": [
  {
   "cell_type": "markdown",
   "metadata": {},
   "source": [
    "# Logistic Regression"
   ]
  },
  {
   "cell_type": "markdown",
   "metadata": {},
   "source": [
    "# Data preperation"
   ]
  },
  {
   "cell_type": "code",
   "execution_count": 1,
   "metadata": {},
   "outputs": [],
   "source": [
    "import pandas as pd\n",
    "import numpy as np\n",
    "import random\n",
    "import os"
   ]
  },
  {
   "cell_type": "code",
   "execution_count": 2,
   "metadata": {},
   "outputs": [],
   "source": [
    "age = []\n",
    "fbs = []\n",
    "bp = []\n",
    "chol = []\n",
    "chest_pain = [] \n",
    "height = []\n",
    "weight =[]"
   ]
  },
  {
   "cell_type": "code",
   "execution_count": 3,
   "metadata": {},
   "outputs": [],
   "source": [
    "for i in range(20000):\n",
    "    chpain_t = np.random.randint(0,2)\n",
    "    chol_t = np.random.randint(150,351)\n",
    "    fbs_t = np.random.randint(50,201)\n",
    "    height_t = np.random.randint(140,191)\n",
    "    weight_t = np.random.randint(35,111)\n",
    "    bp_t = np.random.randint(75,261)\n",
    "    if i%5==0 or i%3==0:\n",
    "        age_t = np.random.choice([np.random.randint(20,46),np.random.randint(71,86)])\n",
    "    else:\n",
    "        age_t = np.random.randint(45,71)\n",
    "    age.append(age_t)\n",
    "    height.append(height_t)\n",
    "    weight.append(weight_t)\n",
    "    chest_pain.append(chpain_t)\n",
    "    bp.append(bp_t)\n",
    "    fbs.append(fbs_t)\n",
    "    chol.append(chol_t)"
   ]
  },
  {
   "cell_type": "code",
   "execution_count": 4,
   "metadata": {},
   "outputs": [],
   "source": [
    "heart_dict = {'age':age, 'height':height, 'weight':weight, 'chest_pain':chest_pain, 'bp':bp, 'fbs':fbs, 'chol':chol}"
   ]
  },
  {
   "cell_type": "code",
   "execution_count": 5,
   "metadata": {},
   "outputs": [],
   "source": [
    "df_heart = pd.DataFrame(heart_dict)"
   ]
  },
  {
   "cell_type": "code",
   "execution_count": 20,
   "metadata": {},
   "outputs": [],
   "source": [
    "df_heart.to_csv(\"heart_data.csv\",index=False)"
   ]
  },
  {
   "cell_type": "markdown",
   "metadata": {},
   "source": [
    "# Data Filtering"
   ]
  },
  {
   "cell_type": "code",
   "execution_count": 23,
   "metadata": {},
   "outputs": [],
   "source": [
    "df = pd.read_csv('heart_data.csv')\n",
    "df1 = pd.read_csv('heart_data.csv')\n",
    "risk = []\n",
    "rule = []\n"
   ]
  },
  {
   "cell_type": "code",
   "execution_count": 24,
   "metadata": {},
   "outputs": [],
   "source": [
    "for i in range(len(df)):\n",
    "    bmi = round(((df.iloc[i,2])/((df.iloc[i,1]/100)**2)),2)\n",
    "    temp = df.iloc[i,:].tolist()\n",
    "    if((temp[5]>120 and temp[4]>145 and temp[0]>52) or (bmi>=24.5 and temp[6]>210) or (temp[3]==1 and temp[6]>200 and temp[0]>56)):\n",
    "        risk.append(1)\n",
    "#         rule.append(1)\n",
    "    elif((temp[4]>150 and temp[6]>210) or (temp[3]==1 and temp[4]<150 and temp[6]>200) or (temp[5]>=120 and temp[0]>60 and temp[6]<200)):\n",
    "        risk.append(1)\n",
    "#         rule.append(2)\n",
    "    elif((temp[3]==0 and (bmi in range(18,25)) and temp[6]<190 and temp[0]<30) or (temp[5]<120 and temp[6]<190 and temp[0]<40)):\n",
    "        risk.append(0)\n",
    "#         rule.append(3)\n",
    "    else:\n",
    "        risk.append(0)\n",
    "#         rule.append(0)\n",
    "         "
   ]
  },
  {
   "cell_type": "code",
   "execution_count": 27,
   "metadata": {},
   "outputs": [],
   "source": [
    "df_yes = df1[df1.risk == 1]\n",
    "df_no = df1[df1.risk == 0]"
   ]
  },
  {
   "cell_type": "code",
   "execution_count": 28,
   "metadata": {},
   "outputs": [],
   "source": [
    "df_new = df1.iloc[-1:-1,:]"
   ]
  },
  {
   "cell_type": "code",
   "execution_count": 29,
   "metadata": {},
   "outputs": [],
   "source": [
    "df_new = df_new.append(df_no,ignore_index=True)\n",
    "df_new = df_new.iloc[:3824,:]\n",
    "df_new = df_new.append(df_yes,ignore_index=True)"
   ]
  },
  {
   "cell_type": "code",
   "execution_count": 30,
   "metadata": {},
   "outputs": [
    {
     "data": {
      "text/html": [
       "<div>\n",
       "<style scoped>\n",
       "    .dataframe tbody tr th:only-of-type {\n",
       "        vertical-align: middle;\n",
       "    }\n",
       "\n",
       "    .dataframe tbody tr th {\n",
       "        vertical-align: top;\n",
       "    }\n",
       "\n",
       "    .dataframe thead th {\n",
       "        text-align: right;\n",
       "    }\n",
       "</style>\n",
       "<table border=\"1\" class=\"dataframe\">\n",
       "  <thead>\n",
       "    <tr style=\"text-align: right;\">\n",
       "      <th></th>\n",
       "      <th>age</th>\n",
       "      <th>height</th>\n",
       "      <th>weight</th>\n",
       "      <th>chest_pain</th>\n",
       "      <th>bp</th>\n",
       "      <th>fbs</th>\n",
       "      <th>chol</th>\n",
       "      <th>risk</th>\n",
       "    </tr>\n",
       "  </thead>\n",
       "  <tbody>\n",
       "    <tr>\n",
       "      <th>0</th>\n",
       "      <td>74</td>\n",
       "      <td>149</td>\n",
       "      <td>67</td>\n",
       "      <td>1</td>\n",
       "      <td>196</td>\n",
       "      <td>67</td>\n",
       "      <td>155</td>\n",
       "      <td>0</td>\n",
       "    </tr>\n",
       "    <tr>\n",
       "      <th>1</th>\n",
       "      <td>74</td>\n",
       "      <td>183</td>\n",
       "      <td>78</td>\n",
       "      <td>0</td>\n",
       "      <td>130</td>\n",
       "      <td>150</td>\n",
       "      <td>283</td>\n",
       "      <td>0</td>\n",
       "    </tr>\n",
       "    <tr>\n",
       "      <th>2</th>\n",
       "      <td>57</td>\n",
       "      <td>146</td>\n",
       "      <td>62</td>\n",
       "      <td>0</td>\n",
       "      <td>225</td>\n",
       "      <td>103</td>\n",
       "      <td>200</td>\n",
       "      <td>0</td>\n",
       "    </tr>\n",
       "    <tr>\n",
       "      <th>3</th>\n",
       "      <td>38</td>\n",
       "      <td>172</td>\n",
       "      <td>58</td>\n",
       "      <td>0</td>\n",
       "      <td>120</td>\n",
       "      <td>81</td>\n",
       "      <td>293</td>\n",
       "      <td>0</td>\n",
       "    </tr>\n",
       "    <tr>\n",
       "      <th>4</th>\n",
       "      <td>52</td>\n",
       "      <td>185</td>\n",
       "      <td>36</td>\n",
       "      <td>0</td>\n",
       "      <td>130</td>\n",
       "      <td>140</td>\n",
       "      <td>237</td>\n",
       "      <td>0</td>\n",
       "    </tr>\n",
       "    <tr>\n",
       "      <th>...</th>\n",
       "      <td>...</td>\n",
       "      <td>...</td>\n",
       "      <td>...</td>\n",
       "      <td>...</td>\n",
       "      <td>...</td>\n",
       "      <td>...</td>\n",
       "      <td>...</td>\n",
       "      <td>...</td>\n",
       "    </tr>\n",
       "    <tr>\n",
       "      <th>18440</th>\n",
       "      <td>42</td>\n",
       "      <td>145</td>\n",
       "      <td>78</td>\n",
       "      <td>0</td>\n",
       "      <td>82</td>\n",
       "      <td>107</td>\n",
       "      <td>304</td>\n",
       "      <td>1</td>\n",
       "    </tr>\n",
       "    <tr>\n",
       "      <th>18441</th>\n",
       "      <td>74</td>\n",
       "      <td>142</td>\n",
       "      <td>91</td>\n",
       "      <td>0</td>\n",
       "      <td>135</td>\n",
       "      <td>106</td>\n",
       "      <td>225</td>\n",
       "      <td>1</td>\n",
       "    </tr>\n",
       "    <tr>\n",
       "      <th>18442</th>\n",
       "      <td>50</td>\n",
       "      <td>180</td>\n",
       "      <td>86</td>\n",
       "      <td>0</td>\n",
       "      <td>152</td>\n",
       "      <td>95</td>\n",
       "      <td>268</td>\n",
       "      <td>1</td>\n",
       "    </tr>\n",
       "    <tr>\n",
       "      <th>18443</th>\n",
       "      <td>24</td>\n",
       "      <td>145</td>\n",
       "      <td>79</td>\n",
       "      <td>1</td>\n",
       "      <td>176</td>\n",
       "      <td>143</td>\n",
       "      <td>241</td>\n",
       "      <td>1</td>\n",
       "    </tr>\n",
       "    <tr>\n",
       "      <th>18444</th>\n",
       "      <td>29</td>\n",
       "      <td>144</td>\n",
       "      <td>60</td>\n",
       "      <td>0</td>\n",
       "      <td>136</td>\n",
       "      <td>53</td>\n",
       "      <td>261</td>\n",
       "      <td>1</td>\n",
       "    </tr>\n",
       "  </tbody>\n",
       "</table>\n",
       "<p>18445 rows × 8 columns</p>\n",
       "</div>"
      ],
      "text/plain": [
       "       age  height  weight  chest_pain   bp  fbs  chol  risk\n",
       "0       74     149      67           1  196   67   155     0\n",
       "1       74     183      78           0  130  150   283     0\n",
       "2       57     146      62           0  225  103   200     0\n",
       "3       38     172      58           0  120   81   293     0\n",
       "4       52     185      36           0  130  140   237     0\n",
       "...    ...     ...     ...         ...  ...  ...   ...   ...\n",
       "18440   42     145      78           0   82  107   304     1\n",
       "18441   74     142      91           0  135  106   225     1\n",
       "18442   50     180      86           0  152   95   268     1\n",
       "18443   24     145      79           1  176  143   241     1\n",
       "18444   29     144      60           0  136   53   261     1\n",
       "\n",
       "[18445 rows x 8 columns]"
      ]
     },
     "execution_count": 30,
     "metadata": {},
     "output_type": "execute_result"
    }
   ],
   "source": [
    "df_new"
   ]
  },
  {
   "cell_type": "code",
   "execution_count": 31,
   "metadata": {},
   "outputs": [],
   "source": [
    "df_new = df_new.iloc[:10000,:]"
   ]
  },
  {
   "cell_type": "code",
   "execution_count": 32,
   "metadata": {},
   "outputs": [],
   "source": [
    "from sklearn.utils import shuffle\n",
    "\n",
    "df_new = shuffle(df_new).reset_index(drop=True)"
   ]
  },
  {
   "cell_type": "code",
   "execution_count": 33,
   "metadata": {},
   "outputs": [
    {
     "data": {
      "text/plain": [
       "1    6176\n",
       "0    3824\n",
       "Name: risk, dtype: int64"
      ]
     },
     "execution_count": 33,
     "metadata": {},
     "output_type": "execute_result"
    }
   ],
   "source": [
    "df_new.risk.value_counts()"
   ]
  },
  {
   "cell_type": "code",
   "execution_count": 34,
   "metadata": {},
   "outputs": [],
   "source": [
    "df_new.to_csv('heart_pred_data1.csv',index=False)"
   ]
  },
  {
   "cell_type": "markdown",
   "metadata": {},
   "source": [
    "# Logistic Regression"
   ]
  },
  {
   "cell_type": "code",
   "execution_count": 36,
   "metadata": {},
   "outputs": [
    {
     "name": "stdout",
     "output_type": "stream",
     "text": [
      "----------------------------------Data------------------------------------\n",
      "      age  height  weight  chest_pain   bp  fbs  chol  risk\n",
      "0      67     141      35           1  185   84   333     1\n",
      "1      73     164      46           1  231  123   208     1\n",
      "2      59     158      86           1   93   61   194     0\n",
      "3      59     154      54           1   98  187   265     1\n",
      "4      36     186     103           0  186  131   325     1\n",
      "...   ...     ...     ...         ...  ...  ...   ...   ...\n",
      "9995   77     174      66           0  193  188   207     1\n",
      "9996   47     182      86           1  220  134   245     1\n",
      "9997   77     152      72           1  245   50   204     1\n",
      "9998   75     170     107           0  239  137   160     1\n",
      "9999   49     170      67           0  107   53   322     0\n",
      "\n",
      "[10000 rows x 8 columns]\n"
     ]
    }
   ],
   "source": [
    "import pandas as pd\n",
    "import numpy as np\n",
    "from sklearn import preprocessing\n",
    "from sklearn.preprocessing import normalize\n",
    "import pandas as pd\n",
    "import seaborn as sns\n",
    "import numpy as np\n",
    "import warnings\n",
    "warnings.filterwarnings('ignore')\n",
    "import seaborn as sn\n",
    "import matplotlib.pyplot as plt\n",
    "from sklearn.utils import resample\n",
    "from sklearn.utils import shuffle\n",
    "from sklearn.model_selection import train_test_split\n",
    "from sklearn import metrics\n",
    "from sklearn.metrics import r2_score\n",
    "from sklearn.metrics import mean_squared_error\n",
    "import scikitplot as skplt\n",
    "from matplotlib.colors import ListedColormap\n",
    "df = pd.read_csv('heart_pred_data.csv')\n",
    "print(\"----------------------------------Data------------------------------------\")\n",
    "print(df)"
   ]
  },
  {
   "cell_type": "markdown",
   "metadata": {},
   "source": [
    "# Distribution of Numerical Features"
   ]
  },
  {
   "cell_type": "code",
   "execution_count": 55,
   "metadata": {},
   "outputs": [
    {
     "data": {
      "image/png": "[encoded data removed]",
      "text/plain": [
       "<Figure size 720x720 with 9 Axes>"
      ]
     },
     "metadata": {
      "needs_background": "light"
     },
     "output_type": "display_data"
    }
   ],
   "source": [
    "df.hist(figsize=(10,10), xrot=-45, bins=10)\n",
    "plt.show()"
   ]
  },
  {
   "cell_type": "markdown",
   "metadata": {},
   "source": [
    "# Correlation"
   ]
  },
  {
   "cell_type": "code",
   "execution_count": 56,
   "metadata": {},
   "outputs": [
    {
     "data": {
      "text/html": [
       "<div>\n",
       "<style scoped>\n",
       "    .dataframe tbody tr th:only-of-type {\n",
       "        vertical-align: middle;\n",
       "    }\n",
       "\n",
       "    .dataframe tbody tr th {\n",
       "        vertical-align: top;\n",
       "    }\n",
       "\n",
       "    .dataframe thead th {\n",
       "        text-align: right;\n",
       "    }\n",
       "</style>\n",
       "<table border=\"1\" class=\"dataframe\">\n",
       "  <thead>\n",
       "    <tr style=\"text-align: right;\">\n",
       "      <th></th>\n",
       "      <th>age</th>\n",
       "      <th>height</th>\n",
       "      <th>weight</th>\n",
       "      <th>chest_pain</th>\n",
       "      <th>bp</th>\n",
       "      <th>fbs</th>\n",
       "      <th>chol</th>\n",
       "      <th>risk</th>\n",
       "    </tr>\n",
       "  </thead>\n",
       "  <tbody>\n",
       "    <tr>\n",
       "      <th>age</th>\n",
       "      <td>1.000000</td>\n",
       "      <td>0.027508</td>\n",
       "      <td>-0.017230</td>\n",
       "      <td>-0.003424</td>\n",
       "      <td>0.009186</td>\n",
       "      <td>-0.011798</td>\n",
       "      <td>0.035971</td>\n",
       "      <td>0.164814</td>\n",
       "    </tr>\n",
       "    <tr>\n",
       "      <th>height</th>\n",
       "      <td>0.027508</td>\n",
       "      <td>1.000000</td>\n",
       "      <td>-0.013926</td>\n",
       "      <td>-0.017302</td>\n",
       "      <td>-0.015414</td>\n",
       "      <td>-0.009118</td>\n",
       "      <td>0.024080</td>\n",
       "      <td>-0.057702</td>\n",
       "    </tr>\n",
       "    <tr>\n",
       "      <th>weight</th>\n",
       "      <td>-0.017230</td>\n",
       "      <td>-0.013926</td>\n",
       "      <td>1.000000</td>\n",
       "      <td>0.016279</td>\n",
       "      <td>0.031407</td>\n",
       "      <td>0.004163</td>\n",
       "      <td>-0.024147</td>\n",
       "      <td>0.136007</td>\n",
       "    </tr>\n",
       "    <tr>\n",
       "      <th>chest_pain</th>\n",
       "      <td>-0.003424</td>\n",
       "      <td>-0.017302</td>\n",
       "      <td>0.016279</td>\n",
       "      <td>1.000000</td>\n",
       "      <td>0.029892</td>\n",
       "      <td>0.003017</td>\n",
       "      <td>-0.020000</td>\n",
       "      <td>0.173258</td>\n",
       "    </tr>\n",
       "    <tr>\n",
       "      <th>bp</th>\n",
       "      <td>0.009186</td>\n",
       "      <td>-0.015414</td>\n",
       "      <td>0.031407</td>\n",
       "      <td>0.029892</td>\n",
       "      <td>1.000000</td>\n",
       "      <td>-0.007615</td>\n",
       "      <td>-0.030259</td>\n",
       "      <td>0.172089</td>\n",
       "    </tr>\n",
       "    <tr>\n",
       "      <th>fbs</th>\n",
       "      <td>-0.011798</td>\n",
       "      <td>-0.009118</td>\n",
       "      <td>0.004163</td>\n",
       "      <td>0.003017</td>\n",
       "      <td>-0.007615</td>\n",
       "      <td>1.000000</td>\n",
       "      <td>0.037449</td>\n",
       "      <td>0.166315</td>\n",
       "    </tr>\n",
       "    <tr>\n",
       "      <th>chol</th>\n",
       "      <td>0.035971</td>\n",
       "      <td>0.024080</td>\n",
       "      <td>-0.024147</td>\n",
       "      <td>-0.020000</td>\n",
       "      <td>-0.030259</td>\n",
       "      <td>0.037449</td>\n",
       "      <td>1.000000</td>\n",
       "      <td>0.531318</td>\n",
       "    </tr>\n",
       "    <tr>\n",
       "      <th>risk</th>\n",
       "      <td>0.164814</td>\n",
       "      <td>-0.057702</td>\n",
       "      <td>0.136007</td>\n",
       "      <td>0.173258</td>\n",
       "      <td>0.172089</td>\n",
       "      <td>0.166315</td>\n",
       "      <td>0.531318</td>\n",
       "      <td>1.000000</td>\n",
       "    </tr>\n",
       "  </tbody>\n",
       "</table>\n",
       "</div>"
      ],
      "text/plain": [
       "                 age    height    weight  chest_pain        bp       fbs  \\\n",
       "age         1.000000  0.027508 -0.017230   -0.003424  0.009186 -0.011798   \n",
       "height      0.027508  1.000000 -0.013926   -0.017302 -0.015414 -0.009118   \n",
       "weight     -0.017230 -0.013926  1.000000    0.016279  0.031407  0.004163   \n",
       "chest_pain -0.003424 -0.017302  0.016279    1.000000  0.029892  0.003017   \n",
       "bp          0.009186 -0.015414  0.031407    0.029892  1.000000 -0.007615   \n",
       "fbs        -0.011798 -0.009118  0.004163    0.003017 -0.007615  1.000000   \n",
       "chol        0.035971  0.024080 -0.024147   -0.020000 -0.030259  0.037449   \n",
       "risk        0.164814 -0.057702  0.136007    0.173258  0.172089  0.166315   \n",
       "\n",
       "                chol      risk  \n",
       "age         0.035971  0.164814  \n",
       "height      0.024080 -0.057702  \n",
       "weight     -0.024147  0.136007  \n",
       "chest_pain -0.020000  0.173258  \n",
       "bp         -0.030259  0.172089  \n",
       "fbs         0.037449  0.166315  \n",
       "chol        1.000000  0.531318  \n",
       "risk        0.531318  1.000000  "
      ]
     },
     "execution_count": 56,
     "metadata": {},
     "output_type": "execute_result"
    }
   ],
   "source": [
    "corr = df.corr()\n",
    "corr"
   ]
  },
  {
   "cell_type": "code",
   "execution_count": 57,
   "metadata": {},
   "outputs": [
    {
     "data": {
      "image/png": "[encoded data removed]",
      "text/plain": [
       "<Figure size 720x720 with 2 Axes>"
      ]
     },
     "metadata": {
      "needs_background": "light"
     },
     "output_type": "display_data"
    }
   ],
   "source": [
    "plt.figure(figsize=(10,10))\n",
    "plt.title(\"Correlation HeatMap\")\n",
    "sns.heatmap(corr)\n",
    "plt.xlabel(\"Features\")\n",
    "plt.ylabel(\"Features\")\n",
    "plt.show()"
   ]
  },
  {
   "cell_type": "code",
   "execution_count": 58,
   "metadata": {},
   "outputs": [
    {
     "data": {
      "image/png": "[encoded data removed]",
      "text/plain": [
       "<Figure size 720x720 with 2 Axes>"
      ]
     },
     "metadata": {
      "needs_background": "light"
     },
     "output_type": "display_data"
    }
   ],
   "source": [
    "mask=np.zeros_like(df.corr())\n",
    "mask[np.triu_indices_from(mask)] = True\n",
    "plt.figure(figsize=(10,10))\n",
    "with sns.axes_style(\"white\"):\n",
    "    ax = sns.heatmap(corr*100, mask=mask, fmt='.0f', annot=True, lw=1, cmap=ListedColormap(['green', 'yellow', 'red','blue']))\n",
    "plt.title(\"Correlation Mask\")\n",
    "plt.show()"
   ]
  },
  {
   "cell_type": "markdown",
   "metadata": {},
   "source": [
    "# Box_plot"
   ]
  },
  {
   "cell_type": "code",
   "execution_count": 61,
   "metadata": {},
   "outputs": [
    {
     "data": {
      "text/plain": [
       "<matplotlib.axes._subplots.AxesSubplot at 0x7efe74323210>"
      ]
     },
     "execution_count": 61,
     "metadata": {},
     "output_type": "execute_result"
    },
    {
     "data": {
      "image/png": "[encoded data removed]",
      "text/plain": [
       "<Figure size 432x288 with 4 Axes>"
      ]
     },
     "metadata": {
      "needs_background": "light"
     },
     "output_type": "display_data"
    }
   ],
   "source": [
    "ax2=plt.subplot(341, frameon=True)\n",
    "sns.boxplot(x=df['age'])\n",
    "ax2=plt.subplot(342, frameon=True)\n",
    "sns.boxplot(x=df['height'])\n",
    "ax2=plt.subplot(343, frameon=True)\n",
    "sns.boxplot(x=df['weight'])\n",
    "ax2=plt.subplot(344, frameon=True)\n",
    "sns.boxplot(x=df['chest_pain'])"
   ]
  },
  {
   "cell_type": "code",
   "execution_count": 62,
   "metadata": {},
   "outputs": [
    {
     "data": {
      "text/plain": [
       "<matplotlib.axes._subplots.AxesSubplot at 0x7efe6dfa0a90>"
      ]
     },
     "execution_count": 62,
     "metadata": {},
     "output_type": "execute_result"
    },
    {
     "data": {
      "image/png": "[encoded data removed]",
      "text/plain": [
       "<Figure size 432x288 with 4 Axes>"
      ]
     },
     "metadata": {
      "needs_background": "light"
     },
     "output_type": "display_data"
    }
   ],
   "source": [
    "ax2=plt.subplot(341, frameon=True)\n",
    "sns.boxplot(x=df['chest_pain'])\n",
    "ax2=plt.subplot(342, frameon=True)\n",
    "sns.boxplot(x=df['bp'])\n",
    "ax2=plt.subplot(343, frameon=True)\n",
    "sns.boxplot(x=df['fbs'])\n",
    "ax2=plt.subplot(344, frameon=True)\n",
    "sns.boxplot(x=df['chol'])"
   ]
  },
  {
   "cell_type": "code",
   "execution_count": 63,
   "metadata": {},
   "outputs": [
    {
     "data": {
      "image/png": "[encoded data removed]",
      "text/plain": [
       "<Figure size 432x288 with 1 Axes>"
      ]
     },
     "metadata": {
      "needs_background": "light"
     },
     "output_type": "display_data"
    }
   ],
   "source": [
    "df.plot(kind='box')\n",
    "plt.show()"
   ]
  },
  {
   "cell_type": "code",
   "execution_count": null,
   "metadata": {},
   "outputs": [],
   "source": []
  },
  {
   "cell_type": "code",
   "execution_count": 37,
   "metadata": {},
   "outputs": [],
   "source": [
    "#splittng data for prediction\n",
    "df1 = df.iloc[9000:,:]\n",
    "df = df.iloc[:9000,:]"
   ]
  },
  {
   "cell_type": "code",
   "execution_count": 39,
   "metadata": {},
   "outputs": [
    {
     "data": {
      "text/plain": [
       "1    5555\n",
       "0    3445\n",
       "Name: risk, dtype: int64"
      ]
     },
     "execution_count": 39,
     "metadata": {},
     "output_type": "execute_result"
    }
   ],
   "source": [
    "test_XX = df1.iloc[:,:-1].values\n",
    "actual_yy = df1.iloc[:,-1].values  # Desired Values................\n",
    "actual_y = actual_yy.tolist()\n",
    "df.risk.value_counts()"
   ]
  },
  {
   "cell_type": "code",
   "execution_count": 40,
   "metadata": {},
   "outputs": [
    {
     "name": "stdout",
     "output_type": "stream",
     "text": [
      "----------------------------------------Data Description----------------------------------------\n"
     ]
    },
    {
     "data": {
      "text/html": [
       "<div>\n",
       "<style scoped>\n",
       "    .dataframe tbody tr th:only-of-type {\n",
       "        vertical-align: middle;\n",
       "    }\n",
       "\n",
       "    .dataframe tbody tr th {\n",
       "        vertical-align: top;\n",
       "    }\n",
       "\n",
       "    .dataframe thead th {\n",
       "        text-align: right;\n",
       "    }\n",
       "</style>\n",
       "<table border=\"1\" class=\"dataframe\">\n",
       "  <thead>\n",
       "    <tr style=\"text-align: right;\">\n",
       "      <th></th>\n",
       "      <th>age</th>\n",
       "      <th>height</th>\n",
       "      <th>weight</th>\n",
       "      <th>chest_pain</th>\n",
       "      <th>bp</th>\n",
       "      <th>fbs</th>\n",
       "      <th>chol</th>\n",
       "      <th>risk</th>\n",
       "    </tr>\n",
       "  </thead>\n",
       "  <tbody>\n",
       "    <tr>\n",
       "      <th>count</th>\n",
       "      <td>9000.000000</td>\n",
       "      <td>9000.000000</td>\n",
       "      <td>9000.000000</td>\n",
       "      <td>9000.000000</td>\n",
       "      <td>9000.000000</td>\n",
       "      <td>9000.000000</td>\n",
       "      <td>9000.000000</td>\n",
       "      <td>9000.000000</td>\n",
       "    </tr>\n",
       "    <tr>\n",
       "      <th>mean</th>\n",
       "      <td>56.035000</td>\n",
       "      <td>165.105333</td>\n",
       "      <td>72.091778</td>\n",
       "      <td>0.470333</td>\n",
       "      <td>165.106000</td>\n",
       "      <td>123.103778</td>\n",
       "      <td>242.058333</td>\n",
       "      <td>0.617222</td>\n",
       "    </tr>\n",
       "    <tr>\n",
       "      <th>std</th>\n",
       "      <td>16.982469</td>\n",
       "      <td>14.667255</td>\n",
       "      <td>22.202545</td>\n",
       "      <td>0.499147</td>\n",
       "      <td>54.042937</td>\n",
       "      <td>43.440135</td>\n",
       "      <td>59.374787</td>\n",
       "      <td>0.486092</td>\n",
       "    </tr>\n",
       "    <tr>\n",
       "      <th>min</th>\n",
       "      <td>20.000000</td>\n",
       "      <td>140.000000</td>\n",
       "      <td>35.000000</td>\n",
       "      <td>0.000000</td>\n",
       "      <td>75.000000</td>\n",
       "      <td>50.000000</td>\n",
       "      <td>150.000000</td>\n",
       "      <td>0.000000</td>\n",
       "    </tr>\n",
       "    <tr>\n",
       "      <th>25%</th>\n",
       "      <td>45.000000</td>\n",
       "      <td>152.000000</td>\n",
       "      <td>53.000000</td>\n",
       "      <td>0.000000</td>\n",
       "      <td>118.000000</td>\n",
       "      <td>85.000000</td>\n",
       "      <td>189.000000</td>\n",
       "      <td>0.000000</td>\n",
       "    </tr>\n",
       "    <tr>\n",
       "      <th>50%</th>\n",
       "      <td>57.000000</td>\n",
       "      <td>165.000000</td>\n",
       "      <td>72.000000</td>\n",
       "      <td>0.000000</td>\n",
       "      <td>164.000000</td>\n",
       "      <td>121.000000</td>\n",
       "      <td>238.000000</td>\n",
       "      <td>1.000000</td>\n",
       "    </tr>\n",
       "    <tr>\n",
       "      <th>75%</th>\n",
       "      <td>69.000000</td>\n",
       "      <td>178.000000</td>\n",
       "      <td>92.000000</td>\n",
       "      <td>1.000000</td>\n",
       "      <td>213.000000</td>\n",
       "      <td>161.000000</td>\n",
       "      <td>293.000000</td>\n",
       "      <td>1.000000</td>\n",
       "    </tr>\n",
       "    <tr>\n",
       "      <th>max</th>\n",
       "      <td>85.000000</td>\n",
       "      <td>190.000000</td>\n",
       "      <td>110.000000</td>\n",
       "      <td>1.000000</td>\n",
       "      <td>260.000000</td>\n",
       "      <td>200.000000</td>\n",
       "      <td>350.000000</td>\n",
       "      <td>1.000000</td>\n",
       "    </tr>\n",
       "  </tbody>\n",
       "</table>\n",
       "</div>"
      ],
      "text/plain": [
       "               age       height       weight   chest_pain           bp  \\\n",
       "count  9000.000000  9000.000000  9000.000000  9000.000000  9000.000000   \n",
       "mean     56.035000   165.105333    72.091778     0.470333   165.106000   \n",
       "std      16.982469    14.667255    22.202545     0.499147    54.042937   \n",
       "min      20.000000   140.000000    35.000000     0.000000    75.000000   \n",
       "25%      45.000000   152.000000    53.000000     0.000000   118.000000   \n",
       "50%      57.000000   165.000000    72.000000     0.000000   164.000000   \n",
       "75%      69.000000   178.000000    92.000000     1.000000   213.000000   \n",
       "max      85.000000   190.000000   110.000000     1.000000   260.000000   \n",
       "\n",
       "               fbs         chol         risk  \n",
       "count  9000.000000  9000.000000  9000.000000  \n",
       "mean    123.103778   242.058333     0.617222  \n",
       "std      43.440135    59.374787     0.486092  \n",
       "min      50.000000   150.000000     0.000000  \n",
       "25%      85.000000   189.000000     0.000000  \n",
       "50%     121.000000   238.000000     1.000000  \n",
       "75%     161.000000   293.000000     1.000000  \n",
       "max     200.000000   350.000000     1.000000  "
      ]
     },
     "execution_count": 40,
     "metadata": {},
     "output_type": "execute_result"
    }
   ],
   "source": [
    "print(\"----------------------------------------Data Description----------------------------------------\")\n",
    "df.describe()"
   ]
  },
  {
   "cell_type": "code",
   "execution_count": 41,
   "metadata": {},
   "outputs": [],
   "source": [
    "X = df.iloc[:,:7]\n",
    "Y = df.iloc[:,-1]"
   ]
  },
  {
   "cell_type": "code",
   "execution_count": 42,
   "metadata": {},
   "outputs": [
    {
     "name": "stdout",
     "output_type": "stream",
     "text": [
      "Features:  ['age', 'height', 'weight', 'chest_pain', 'bp', 'fbs', 'chol']\n"
     ]
    }
   ],
   "source": [
    "db_no =df[df.risk == 0]\n",
    "db_yes = df[df.risk == 1]\n",
    "# df_minority_upsampled = resample(db_yes,replace=True)\n",
    "# new_df = pd.concat([db_no, df_minority_upsampled])\n",
    "#df_minority_upsampled.value_counts()\n",
    "# new_df = shuffle(new_df)\n",
    "X_features = list( df.columns )[:-1]\n",
    "\n",
    "print(\"Features: \",X_features)"
   ]
  },
  {
   "cell_type": "code",
   "execution_count": 45,
   "metadata": {},
   "outputs": [],
   "source": [
    "train_X, test_X, train_y, test_y = train_test_split(X,Y,test_size = 0.2,random_state = 65)"
   ]
  },
  {
   "cell_type": "code",
   "execution_count": 47,
   "metadata": {},
   "outputs": [],
   "source": [
    "from sklearn.linear_model import LogisticRegression\n",
    "\n",
    "logit = LogisticRegression()\n",
    "logit.fit( train_X, train_y)\n",
    "pred_y0 = logit.predict(test_X)"
   ]
  },
  {
   "cell_type": "code",
   "execution_count": 48,
   "metadata": {},
   "outputs": [
    {
     "data": {
      "image/png": "[encoded data removed]",
      "text/plain": [
       "<Figure size 432x288 with 1 Axes>"
      ]
     },
     "metadata": {
      "needs_background": "light"
     },
     "output_type": "display_data"
    }
   ],
   "source": [
    "pred = logit.predict(test_XX)  # Prediction \n",
    "def comaprison_plot(pred,actual):\n",
    "    plt.plot(np.arange(1000),pred,label='Predicted')\n",
    "    plt.plot(np.arange(1000),actual,label='Actual')\n",
    "    plt.xlabel('No.of Samples')\n",
    "    plt.ylabel('Y Value')\n",
    "    plt.legend(loc='upper right')\n",
    "    plt.title('Comparison Plot')\n",
    "    plt.show()\n",
    "\n",
    "comaprison_plot(pred,actual_yy)"
   ]
  },
  {
   "cell_type": "code",
   "execution_count": 49,
   "metadata": {},
   "outputs": [
    {
     "name": "stdout",
     "output_type": "stream",
     "text": [
      "R Squared Error :  0.27078633802946594\n",
      "Mean Squared Error :  0.1711111111111111\n"
     ]
    }
   ],
   "source": [
    "r20=r2_score(test_y, pred_y0) \n",
    "mse0=mean_squared_error(test_y, pred_y0)\n",
    "print(\"R Squared Error : \",r20)\n",
    "print(\"Mean Squared Error : \",mse0)"
   ]
  },
  {
   "cell_type": "code",
   "execution_count": 50,
   "metadata": {},
   "outputs": [
    {
     "data": {
      "image/png": "[encoded data removed]",
      "text/plain": [
       "<Figure size 432x288 with 2 Axes>"
      ]
     },
     "metadata": {
      "needs_background": "light"
     },
     "output_type": "display_data"
    }
   ],
   "source": [
    "def draw_cm( actual, predicted ):\n",
    "    cm = metrics.confusion_matrix( actual, predicted, [1,0] )\n",
    "    sn.heatmap(cm, annot=True, fmt='.2f',\n",
    "    xticklabels = [\"Risky\", \"Not-Risky\"] ,\n",
    "    yticklabels = [\"Risky\", \"Not-Risky\"] )\n",
    "    plt.ylabel('True label')\n",
    "    plt.xlabel('Predicted label')\n",
    "    plt.title('HeatMap_Log Reg')\n",
    "    plt.show()\n",
    "draw_cm(test_y,pred_y0 )"
   ]
  },
  {
   "cell_type": "code",
   "execution_count": 51,
   "metadata": {},
   "outputs": [
    {
     "name": "stdout",
     "output_type": "stream",
     "text": [
      "              precision    recall  f1-score   support\n",
      "\n",
      "           0       0.78      0.76      0.77       677\n",
      "           1       0.86      0.87      0.86      1123\n",
      "\n",
      "    accuracy                           0.83      1800\n",
      "   macro avg       0.82      0.82      0.82      1800\n",
      "weighted avg       0.83      0.83      0.83      1800\n",
      "\n"
     ]
    }
   ],
   "source": [
    "print( metrics.classification_report( test_y, pred_y0 ) )"
   ]
  },
  {
   "cell_type": "markdown",
   "metadata": {},
   "source": [
    "# Perfomence Comparison"
   ]
  },
  {
   "cell_type": "code",
   "execution_count": 52,
   "metadata": {},
   "outputs": [
    {
     "name": "stdout",
     "output_type": "stream",
     "text": [
      "Accuracy: 0.8288888888888889\n",
      "Precision: 0.8590308370044053\n",
      "Recall: 0.8682101513802315\n",
      "F1-Score: 0.8635961027457927\n",
      "Kappa-Stat: 0.6341052937255394\n"
     ]
    }
   ],
   "source": [
    "acc0 = metrics.accuracy_score(test_y, pred_y0)\n",
    "print(\"Accuracy:\",acc0)\n",
    "\n",
    "prec0 = metrics.precision_score(test_y, pred_y0)\n",
    "print(\"Precision:\",prec0)\n",
    "\n",
    "recall0 = metrics.recall_score(test_y, pred_y0)\n",
    "print(\"Recall:\",recall0)\n",
    "\n",
    "f1sc0 = metrics.f1_score(test_y, pred_y0)\n",
    "print(\"F1-Score:\",f1sc0)\n",
    "\n",
    "kappa0 = metrics.cohen_kappa_score(test_y, pred_y0)\n",
    "print(\"Kappa-Stat:\",kappa0)"
   ]
  },
  {
   "cell_type": "markdown",
   "metadata": {},
   "source": [
    "# ROC_curve"
   ]
  },
  {
   "cell_type": "code",
   "execution_count": 53,
   "metadata": {},
   "outputs": [
    {
     "data": {
      "image/png": "[encoded data removed]",
      "text/plain": [
       "<Figure size 432x288 with 1 Axes>"
      ]
     },
     "metadata": {
      "needs_background": "light"
     },
     "output_type": "display_data"
    }
   ],
   "source": [
    "y_pred_proba0 = logit.predict_proba(test_X)[:,1]\n",
    "fpr0, tpr0, _ = metrics.roc_curve( test_y,  y_pred_proba0)\n",
    "auc0 = metrics.roc_auc_score( test_y, y_pred_proba0)\n",
    "plt.plot(fpr0,tpr0,label=\"Log Reg, ROC=\"+str(auc0))\n",
    "plt.legend(loc=4)\n",
    "plt.title('ROC Curve_Log Reg')\n",
    "plt.plot([0, 1], [0, 1], 'k--')\n",
    "plt.show()"
   ]
  },
  {
   "cell_type": "markdown",
   "metadata": {},
   "source": [
    "# Lift curve"
   ]
  },
  {
   "cell_type": "code",
   "execution_count": 54,
   "metadata": {},
   "outputs": [
    {
     "data": {
      "image/png": "[encoded data removed]",
      "text/plain": [
       "<Figure size 432x288 with 1 Axes>"
      ]
     },
     "metadata": {
      "needs_background": "light"
     },
     "output_type": "display_data"
    }
   ],
   "source": [
    "predicted_probas0 = logit.predict_proba(test_X)\n",
    "skplt.metrics.plot_cumulative_gain(test_y, predicted_probas0)\n",
    "plt.xticks([0.0,0.2,0.4,0.6,0.8,1.0],[\"0%\",\"20%\",\"40%\",\"60%\",\"80%\",\"100%\"])\n",
    "plt.yticks([0.0,0.2,0.4,0.6,0.8,1.0],[\"0%\",\"20%\",\"40%\",\"60%\",\"80%\",\"100%\"])\n",
    "plt.legend('')\n",
    "plt.title(\"Cumulative Gains Curve - Logistic Regression\")\n",
    "plt.show()"
   ]
  },
  {
   "cell_type": "code",
   "execution_count": null,
   "metadata": {},
   "outputs": [],
   "source": []
  }
 ],
 "metadata": {
  "kernelspec": {
   "display_name": "Python 3",
   "language": "python",
   "name": "python3"
  },
  "language_info": {
   "codemirror_mode": {
    "name": "ipython",
    "version": 3
   },
   "file_extension": ".py",
   "mimetype": "text/x-python",
   "name": "python",
   "nbconvert_exporter": "python",
   "pygments_lexer": "ipython3",
   "version": "3.7.4"
  }
 },
 "nbformat": 4,
 "nbformat_minor": 4
}
